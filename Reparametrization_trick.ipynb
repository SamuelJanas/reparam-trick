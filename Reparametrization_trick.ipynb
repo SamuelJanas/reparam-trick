{
  "cells": [
    {
      "cell_type": "markdown",
      "id": "0460f8db-bdd2-43e4-b356-076911a9a13f",
      "metadata": {
        "noteable": {
          "cell_type": "markdown"
        }
      },
      "source": [
        "# Reparametrization Trick in Variational Autoencoders (VAEs)\n",
        "\n",
        "## Introduction\n",
        "\n",
        "The reparametrization trick is a technique used in Variational Autoencoders (VAEs) to enable backpropagation through stochastic nodes. VAEs are a type of generative model that learn to encode and decode data in a probabilistic manner. One of the challenges in training VAEs is the presence of a stochastic (random) layer that samples from a distribution. Traditional backpropagation algorithms cannot handle stochastic nodes directly.\n",
        "\n",
        "## The Problem\n",
        "\n",
        "In VAEs, the encoder network produces a mean and a variance for each latent variable. During the forward pass, we sample from a Gaussian distribution with these parameters to obtain the latent variables. This sampling operation is non-deterministic, making it difficult to backpropagate errors through it.\n",
        "\n",
        "## The Solution: Reparametrization Trick\n",
        "\n",
        "The reparametrization trick provides a way to 'reparameterize' the sampling operation so that it becomes differentiable. Instead of sampling from a distribution parameterized by the mean and variance, we sample from a standard normal distribution and then transform it using the mean and variance. This allows us to backpropagate errors through the stochastic layer, enabling the training of VAEs.\n"
      ]
    },
    {
      "cell_type": "markdown",
      "id": "07fa75a2-94ef-4ac4-b2ad-f571c4277b5b",
      "metadata": {
        "noteable": {
          "cell_type": "markdown"
        }
      },
      "source": [
        "## Importing Libraries\n",
        "\n",
        "First, let's import the necessary libraries "
      ]
    },
    {
      "cell_type": "code",
      "execution_count": 7,
      "id": "507210d4-82b9-41d8-b3f7-7ad40612c3c2",
      "metadata": {
        "ExecuteTime": {
          "end_time": "2023-08-24T07:00:06.826787+00:00",
          "start_time": "2023-08-24T07:00:06.200781+00:00"
        },
        "noteable": {
          "cell_type": "code"
        }
      },
      "outputs": [],
      "source": [
        "import numpy as np\n",
        "import matplotlib.pyplot as plt\n",
        "import torch"
      ]
    },
    {
      "cell_type": "markdown",
      "id": "3e479f25",
      "metadata": {},
      "source": [
        "## Simple Example of Reparametrization Trick\n",
        "\n",
        "To understand the reparametrization trick, let's consider a simple example where we have a Gaussian distribution with a mean $\\mu $ and a standard deviation $\\sigma$\n",
        "\n",
        "### Without Reparametrization\n",
        "\n",
        "Normally, we would sample from this distribution as follows:\n",
        "\n",
        "$$\n",
        "z = \\text{sample from } N(\\mu, \\sigma^2)\n",
        "$$\n",
        "\n",
        "### With Reparametrization\n",
        "\n",
        "Using the reparametrization trick, we can rewrite this as:\n",
        "\n",
        "$$\n",
        "z = \\mu + \\sigma \\times \\text{sample from } N(0, 1)\n",
        "$$\n",
        "\n",
        "By doing this, we make the operation differentiable with respect to $ \\mu $ and $\\sigma$, allowing for backpropagation.\n"
      ]
    },
    {
      "cell_type": "code",
      "execution_count": 8,
      "id": "e31d9637-5769-45a7-95d8-bc3eba502eb0",
      "metadata": {
        "ExecuteTime": {
          "end_time": "2023-08-24T06:59:54.409546+00:00",
          "start_time": "2023-08-24T06:59:53.832813+00:00"
        },
        "noteable": {
          "cell_type": "code"
        }
      },
      "outputs": [
        {
          "data": {
            "image/png": "[encoded data removed]",
            "text/plain": [
              "<Figure size 864x432 with 2 Axes>"
            ]
          },
          "metadata": {
            "needs_background": "light"
          },
          "output_type": "display_data"
        }
      ],
      "source": [
        "# Define mean and standard deviation\n",
        "mu = 2.0\n",
        "sigma = 0.5\n",
        "\n",
        "# Number of samples\n",
        "n_samples = 1000\n",
        "\n",
        "# Without reparametrization\n",
        "z_without_reparam = np.random.normal(mu, sigma, n_samples)\n",
        "\n",
        "# With reparametrization\n",
        "epsilon = np.random.normal(0, 1, n_samples)\n",
        "z_with_reparam = mu + sigma * epsilon\n",
        "\n",
        "# Plotting\n",
        "plt.figure(figsize=(12, 6))\n",
        "plt.subplot(1, 2, 1)\n",
        "plt.title('Without Reparametrization')\n",
        "plt.hist(z_without_reparam, bins=30, alpha=0.7, label='z')\n",
        "plt.legend()\n",
        "\n",
        "plt.subplot(1, 2, 2)\n",
        "plt.title('With Reparametrization')\n",
        "plt.hist(z_with_reparam, bins=30, alpha=0.7, label='z')\n",
        "plt.legend()\n",
        "plt.show()"
      ]
    },
    {
      "cell_type": "markdown",
      "id": "8826fcd2",
      "metadata": {},
      "source": [
        "# Demonstration\n",
        "\n",
        "We will be using a simple example, our target is to optimize the mean to be as close to 2.0 as possible."
      ]
    },
    {
      "cell_type": "code",
      "execution_count": 9,
      "id": "f66f9123",
      "metadata": {},
      "outputs": [],
      "source": [
        "target_mean = 2.0"
      ]
    },
    {
      "cell_type": "markdown",
      "id": "5649a1b6",
      "metadata": {},
      "source": [
        "### Without reparametrization trick\n",
        "Firstly, let's see what happens when we do not use the trick:"
      ]
    },
    {
      "cell_type": "code",
      "execution_count": 10,
      "id": "5602d753-7d3a-445a-b00f-42b7783ef398",
      "metadata": {
        "ExecuteTime": {
          "end_time": "2023-08-24T07:04:05.222813+00:00",
          "start_time": "2023-08-24T07:04:05.046139+00:00"
        },
        "noteable": {
          "cell_type": "code"
        }
      },
      "outputs": [
        {
          "name": "stdout",
          "output_type": "stream",
          "text": [
            "Step 0, Loss: 4.1522674560546875, Mu: 0.0, Sigma: 1.0\n",
            "No change for 11 steps, stopping training at step 11\n"
          ]
        },
        {
          "data": {
            "text/plain": [
              "<matplotlib.legend.Legend at 0x17021b57fa0>"
            ]
          },
          "execution_count": 10,
          "metadata": {},
          "output_type": "execute_result"
        },
        {
          "data": {
            "image/png": "[encoded data removed]",
            "text/plain": [
              "<Figure size 864x432 with 1 Axes>"
            ]
          },
          "metadata": {
            "needs_background": "light"
          },
          "output_type": "display_data"
        }
      ],
      "source": [
        "# Define variables (mean and log variance)\n",
        "mu = torch.tensor(0.0, requires_grad=True)\n",
        "log_var = torch.tensor(0.0, requires_grad=True)\n",
        "\n",
        "# Set optimizer\n",
        "optimizer = torch.optim.Adam([mu, log_var], lr=0.01)\n",
        "\n",
        "# Variables to show no change\n",
        "no_change = 0\n",
        "mu_old = 0\n",
        "log_var_old = 0\n",
        "\n",
        "for step in range(1000):\n",
        "    optimizer.zero_grad()\n",
        "\n",
        "    # Sample without reparametrization trick\n",
        "    sigma = torch.exp(log_var * 0.5)\n",
        "    samples = torch.normal(mean=mu.expand(1000), std=sigma.expand(1000))\n",
        "\n",
        "    # Objective function\n",
        "    loss = ((samples.mean() - target_mean)**2)\n",
        "    \n",
        "    loss.backward()\n",
        "    \n",
        "    \n",
        "    if step > 0 and (mu_old == mu.grad and log_var_old == log_var.grad):\n",
        "        no_change += 1\n",
        "    else:\n",
        "        mu_old = mu.grad\n",
        "        log_var_old = log_var.grad\n",
        "\n",
        "    if no_change > 10:\n",
        "        print(f\"No change for {no_change} steps, stopping training at step {step}\")\n",
        "        break\n",
        "\n",
        "    optimizer.step()\n",
        "    \n",
        "    if step % 100 == 0:\n",
        "        print(f\"Step {step}, Loss: {loss.item()}, Mu: {mu.item()}, Sigma: {torch.exp(log_var * 0.5).item()}\")\n",
        "\n",
        "plt.figure(figsize=(12, 6))\n",
        "plt.subplot(1, 2, 1)\n",
        "plt.title('Without Reparametrization')\n",
        "plt.hist(samples.detach().numpy(), bins=30, alpha=0.7, label='z')\n",
        "plt.legend()"
      ]
    },
    {
      "cell_type": "markdown",
      "id": "64e76858",
      "metadata": {},
      "source": [
        "As you can see we encountered an early stop due to no change in the first steps, it's impossible to optimize the mean without any change in the gradient. Short explanation: we cannot take the derivative of a random variable.\n",
        "\n",
        "### With reparametrization trick\n",
        "Now let's see how it works with the reparametrization trick:"
      ]
    },
    {
      "cell_type": "code",
      "execution_count": 11,
      "id": "ac87de87",
      "metadata": {},
      "outputs": [
        {
          "name": "stdout",
          "output_type": "stream",
          "text": [
            "Step 0, Loss: 4.180858135223389, Mu: 0.009999999776482582, Sigma: 0.9950124621391296\n",
            "Step 100, Loss: 1.279354214668274, Mu: 0.9099351763725281, Sigma: 1.00774085521698\n",
            "Step 200, Loss: 0.22119314968585968, Mu: 1.5124846696853638, Sigma: 0.9357064962387085\n",
            "Step 300, Loss: 0.026294641196727753, Mu: 1.8266702890396118, Sigma: 0.9049364328384399\n",
            "Step 400, Loss: 0.002147096209228039, Mu: 1.9553629159927368, Sigma: 0.8821663856506348\n",
            "Step 500, Loss: 0.0006314886268228292, Mu: 1.9918535947799683, Sigma: 0.8645819425582886\n",
            "Step 600, Loss: 1.0246450983686373e-05, Mu: 1.9965250492095947, Sigma: 0.8498042821884155\n",
            "Step 700, Loss: 0.0004961371305398643, Mu: 1.9948914051055908, Sigma: 0.8338474631309509\n",
            "Step 800, Loss: 0.0005850613815709949, Mu: 2.0019803047180176, Sigma: 0.8172615170478821\n",
            "Step 900, Loss: 0.00024853370268829167, Mu: 1.9980132579803467, Sigma: 0.8021270036697388\n"
          ]
        },
        {
          "data": {
            "text/plain": [
              "<matplotlib.legend.Legend at 0x1702aa93f10>"
            ]
          },
          "execution_count": 11,
          "metadata": {},
          "output_type": "execute_result"
        },
        {
          "data": {
            "image/png": "[encoded data removed]",
            "text/plain": [
              "<Figure size 864x432 with 1 Axes>"
            ]
          },
          "metadata": {
            "needs_background": "light"
          },
          "output_type": "display_data"
        }
      ],
      "source": [
        "import torch\n",
        "\n",
        "# Define variables (mean and log variance)\n",
        "mu = torch.tensor(0.0, requires_grad=True)\n",
        "log_var = torch.tensor(0.0, requires_grad=True)\n",
        "\n",
        "# Set optimizer\n",
        "optimizer = torch.optim.Adam([mu, log_var], lr=0.01)\n",
        "\n",
        "# Variables to show no change\n",
        "no_change = 0\n",
        "mu_old = 0\n",
        "log_var_old = 0\n",
        "\n",
        "for step in range(1000):\n",
        "    optimizer.zero_grad()\n",
        "\n",
        "    # Reparametrization trick\n",
        "    epsilon = torch.randn(1000)\n",
        "    sigma = torch.exp(log_var * 0.5)\n",
        "    samples = mu + epsilon * sigma\n",
        "\n",
        "    # Objective function\n",
        "    loss = ((samples.mean() - target_mean)**2)\n",
        "    \n",
        "    loss.backward()\n",
        "    \n",
        "    if step > 0 and (mu_old == mu.grad and log_var_old == log_var.grad):\n",
        "        no_change += 1\n",
        "    else:\n",
        "        mu_old = mu.grad\n",
        "        log_var_old = log_var.grad\n",
        "\n",
        "    if no_change > 10:\n",
        "        print(f\"No change for {no_change} steps, stopping training at step {step}\")\n",
        "        break\n",
        "    \n",
        "    optimizer.step()\n",
        "    \n",
        "    if step % 100 == 0:\n",
        "        print(f\"Step {step}, Loss: {loss.item()}, Mu: {mu.item()}, Sigma: {torch.exp(log_var * 0.5).item()}\")\n",
        "\n",
        "plt.figure(figsize=(12, 6))\n",
        "plt.subplot(1, 2, 1)\n",
        "plt.title('With Reparametrization')\n",
        "plt.hist(samples.detach().numpy(), bins=30, alpha=0.7, label='z')\n",
        "plt.legend()\n"
      ]
    },
    {
      "cell_type": "markdown",
      "id": "829830a8",
      "metadata": {},
      "source": [
        "Here, the gradients exist and the optimization proceeds as expected, because we employed the reparametrization trick."
      ]
    }
  ],
  "metadata": {
    "kernel_info": {
      "name": "python3"
    },
    "kernelspec": {
      "display_name": "Python 3.9",
      "language": "python",
      "name": "python3"
    },
    "language_info": {
      "codemirror_mode": {
        "name": "ipython",
        "version": 3
      },
      "file_extension": ".py",
      "mimetype": "text/x-python",
      "name": "python",
      "nbconvert_exporter": "python",
      "pygments_lexer": "ipython3",
      "version": "3.10.0"
    },
    "noteable": {
      "last_delta_id": "cd41b503-9fd4-434f-9627-cf8e055eb42e",
      "last_transaction_id": "dffa0e26-4fd8-4c64-9140-dff4481ceaff"
    },
    "noteable-chatgpt": {
      "create_notebook": {
        "openai_conversation_id": "1de31ade-1fab-56e9-952f-946e0cea7abc",
        "openai_ephemeral_user_id": "199a4765-4dc6-59ad-9582-f8bd85e4a24c",
        "openai_subdivision1_iso_code": "PL-30"
      }
    },
    "nteract": {
      "version": "noteable@2.9.0"
    },
    "selected_hardware_size": "small"
  },
  "nbformat": 4,
  "nbformat_minor": 5
}
